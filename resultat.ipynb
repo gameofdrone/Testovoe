{
 "cells": [
  {
   "cell_type": "code",
   "execution_count": null,
   "metadata": {},
   "outputs": [],
   "source": [
    "import os\n",
    "import numpy as np\n",
    "from os import listdir\n",
    "from matplotlib import pyplot as plt\n",
    "from scipy.misc import imread, imresize, toimage, imsave\n",
    "from sklearn.model_selection import train_test_split"
   ]
  },
  {
   "cell_type": "code",
   "execution_count": null,
   "metadata": {},
   "outputs": [],
   "source": [
    "def get_img(data_path):\n",
    "    img = imread(data_path)\n",
    "    img = imresize(img, (256, 256))\n",
    "    return img"
   ]
  },
  {
   "cell_type": "code",
   "execution_count": null,
   "metadata": {},
   "outputs": [],
   "source": [
    "def save_img(img, name='mask.tif'):\n",
    "    imsave(name, img.reshape(256, 256))"
   ]
  },
  {
   "cell_type": "code",
   "execution_count": null,
   "metadata": {},
   "outputs": [],
   "source": [
    "def get_dataset(dataset_path='H:\\\\testovoe\\\\Ultrasound Nerve Segmentation\\\\raw\\\\train'):\n",
    "    try:\n",
    "        X = np.load('H:\\\\testovoe\\\\Ultrasound Nerve Segmentation\\\\raw\\\\npy_train_data\\\\X.npy')\n",
    "        Y = np.load('H:\\\\testovoe\\\\Ultrasound Nerve Segmentation\\\\raw\\\\npy_train_data\\\\Y.npy')\n",
    "    except:\n",
    "        images = listdir(dataset_path)\n",
    "        X = []\n",
    "        Y = []\n",
    "        for img in images:\n",
    "            if 'mask' in img:\n",
    "                continue\n",
    "            img_path = dataset_path+'/'+img\n",
    "            X.append(get_img(img_path).astype('float32').reshape(256, 256, 1)/255.)\n",
    "            Y.append(get_img(img_path.replace('.', '_mask.')).astype('float32').reshape(256, 256, 1)/255.)\n",
    "        X = np.array(X)\n",
    "        Y = np.array(Y)\n",
    "        if not os.path.exists('H:\\\\testovoe\\\\Ultrasound Nerve Segmentation\\\\raw\\\\npy_train_data\\\\'):\n",
    "            os.makedirs('H:\\\\testovoe\\\\Ultrasound Nerve Segmentation\\\\raw\\\\npy_train_data\\\\')\n",
    "        np.save('H:\\\\testovoe\\\\Ultrasound Nerve Segmentation\\\\raw\\\\npy_train_data\\\\X.npy', X)\n",
    "        np.save('H:\\\\testovoe\\\\Ultrasound Nerve Segmentation\\\\raw\\\\npy_train_data\\\\Y.npy', Y)\n",
    "    X, X_test, Y, Y_test = train_test_split(X, Y, test_size=0.1, random_state=42)\n",
    "    return X, X_test, Y, Y_test"
   ]
  },
  {
   "cell_type": "code",
   "execution_count": null,
   "metadata": {},
   "outputs": [],
   "source": [
    "def dice_coef(y_true, y_pred):\n",
    "    smooth = 1.\n",
    "    y_true_f = K.flatten(y_true)\n",
    "    y_pred_f = K.flatten(y_pred)\n",
    "    intersection = K.sum(y_true_f * y_pred_f)\n",
    "    return (2. * intersection + smooth) / (K.sum(y_true_f) + K.sum(y_pred_f) + smooth)"
   ]
  },
  {
   "cell_type": "code",
   "execution_count": null,
   "metadata": {},
   "outputs": [],
   "source": [
    "def dice_coef_loss(y_true, y_pred):\n",
    "    return -dice_coef(y_true, y_pred)"
   ]
  },
  {
   "cell_type": "code",
   "execution_count": null,
   "metadata": {},
   "outputs": [],
   "source": [
    "from keras.models import Model\n",
    "from keras import backend as K\n",
    "from keras.models import model_from_json\n",
    "from keras.layers import Input, Conv2D, UpSampling2D, Activation, MaxPooling2D, Flatten, Dense, concatenate, Dropout\n",
    "\n",
    "\n",
    "def get_model():\n",
    "\n",
    "    inputs = Input(shape=(256, 256, 1))\n",
    "    \n",
    "    conv_block_1 = Conv2D(16, (3, 3), strides=(1, 1), padding='same')(inputs)\n",
    "    conv_block_1 = Activation('relu')(conv_block_1)\n",
    "    conv_block_1 = Conv2D(16, (3, 3), strides=(1, 1), padding='same')(conv_block_1)\n",
    "    conv_block_1 = Activation('relu')(conv_block_1)\n",
    "    pool_block_1 = MaxPooling2D(pool_size=(2, 2), strides=(2, 2))(conv_block_1)\n",
    "    \n",
    "    conv_block_2 = Conv2D(32, (3, 3), strides=(1, 1), padding='same')(pool_block_1)\n",
    "    conv_block_2 = Activation('relu')(conv_block_2)\n",
    "    conv_block_2 = Conv2D(32, (3, 3), strides=(1, 1), padding='same')(conv_block_2)\n",
    "    conv_block_2 = Activation('relu')(conv_block_2)\n",
    "    pool_block_2 = MaxPooling2D(pool_size=(2, 2), strides=(2, 2))(conv_block_2)\n",
    "    \n",
    "    conv_block_3 = Conv2D(64, (3, 3), strides=(1, 1), padding='same')(pool_block_2)\n",
    "    conv_block_3 = Activation('relu')(conv_block_3)\n",
    "    conv_block_3 = Conv2D(64, (3, 3), strides=(1, 1), padding='same')(conv_block_3)\n",
    "    conv_block_3 = Activation('relu')(conv_block_3)\n",
    "    pool_block_3 = MaxPooling2D(pool_size=(2, 2), strides=(2, 2))(conv_block_3)\n",
    "    \n",
    "    conv_block_4 = Conv2D(128, (3, 3), strides=(1, 1), padding='same')(pool_block_3)\n",
    "    conv_block_4 = Activation('relu')(conv_block_4)\n",
    "    conv_block_4 = Conv2D(128, (3, 3), strides=(1, 1), padding='same')(conv_block_4)\n",
    "    conv_block_4 = Activation('relu')(conv_block_4)\n",
    "    pool_block_4 = MaxPooling2D(pool_size=(2, 2), strides=(2, 2))(conv_block_4)\n",
    "    \n",
    "    conv_block_5 = Conv2D(128, (3, 3), strides=(1, 1), padding='same')(pool_block_4)\n",
    "    conv_block_5 = Activation('relu')(conv_block_5)\n",
    "    conv_block_5 = Conv2D(128, (3, 3), strides=(1, 1), padding='same')(conv_block_5)\n",
    "    conv_block_5 = Activation('relu')(conv_block_5)\n",
    "    \n",
    "    up_block_1 = UpSampling2D((2, 2))(conv_block_5)\n",
    "    up_block_1 = Conv2D(128, (3, 3), strides=(1, 1), padding='same')(up_block_1)\n",
    "    \n",
    "    merge_1 = concatenate([conv_block_4, up_block_1])\n",
    "    \n",
    "    conv_block_6 = Conv2D(128, (3, 3), strides=(1, 1), padding='same')(merge_1)\n",
    "    conv_block_6 = Activation('relu')(conv_block_6)\n",
    "    conv_block_6 = Conv2D(128, (3, 3), strides=(1, 1), padding='same')(conv_block_6)\n",
    "    conv_block_6 = Activation('relu')(conv_block_6)\n",
    "    \n",
    "    up_block_2 = UpSampling2D((2, 2))(conv_block_6)\n",
    "    up_block_2 = Conv2D(128, (3, 3), strides=(1, 1), padding='same')(up_block_2)\n",
    "    \n",
    "    merge_2 = concatenate([conv_block_3, up_block_2])\n",
    "    \n",
    "    conv_block_7 = Conv2D(64, (3, 3), strides=(1, 1), padding='same')(merge_2)\n",
    "    conv_block_7 = Activation('relu')(conv_block_7)\n",
    "    conv_block_7 = Conv2D(64, (3, 3), strides=(1, 1), padding='same')(conv_block_7)\n",
    "    conv_block_7 = Activation('relu')(conv_block_7)\n",
    "    \n",
    "    up_block_3 = UpSampling2D((2, 2))(conv_block_7)\n",
    "    up_block_3 = Conv2D(32, (3, 3), strides=(1, 1), padding='same')(up_block_3)\n",
    "    \n",
    "    merge_3 = concatenate([conv_block_2, up_block_3])\n",
    "    \n",
    "    conv_block_8 = Conv2D(32, (3, 3), strides=(1, 1), padding='same')(merge_3)\n",
    "    conv_block_8 = Activation('relu')(conv_block_8)\n",
    "    conv_block_8 = Conv2D(32, (3, 3), strides=(1, 1), padding='same')(conv_block_8)\n",
    "    conv_block_8 = Activation('relu')(conv_block_8)\n",
    "    \n",
    "    up_block_4 = UpSampling2D((2, 2))(conv_block_8)\n",
    "    up_block_4 = Conv2D(16, (3, 3), strides=(1, 1), padding='same')(up_block_4)\n",
    "    \n",
    "    merge_4 = concatenate([conv_block_1, up_block_4])\n",
    "    \n",
    "    conv_block_9 = Conv2D(16, (3, 3), strides=(1, 1), padding='same')(merge_4)\n",
    "    conv_block_9 = Activation('relu')(conv_block_9)\n",
    "    conv_block_9 = Conv2D(16, (3, 3), strides=(1, 1), padding='same')(conv_block_9)\n",
    "    conv_block_9 = Activation('relu')(conv_block_9)\n",
    "    \n",
    "    conv_block_10 = Conv2D(1, (1, 1), strides=(1, 1), padding='same')(conv_block_9)\n",
    "    outputs = Activation('sigmoid')(conv_block_10)\n",
    "    \n",
    "    model = Model(inputs=inputs, outputs=outputs)\n",
    "\n",
    "    model.compile(optimizer='adadelta', loss=dice_coef_loss, metrics=[dice_coef])\n",
    "\n",
    "    return model\n",
    "\n",
    "\n",
    "def save_model(model):\n",
    "    if not os.path.exists('H:\\\\testovoe\\\\Ultrasound Nerve Segmentation\\\\'):\n",
    "        os.makedirs('H:\\\\testovoe\\\\Ultrasound Nerve Segmentation\\\\')\n",
    "    model_json = model.to_json()\n",
    "    with open(\"H:\\\\testovoe\\\\Ultrasound Nerve Segmentation\\\\model.json\", \"w\") as model_file:\n",
    "        model_file.write(model_json)\n",
    "    model.save_weights(\"H:\\\\testovoe\\\\Ultrasound Nerve Segmentation\\\\weights.h5\")\n",
    "    print('Model and weights saved')\n",
    "    return"
   ]
  },
  {
   "cell_type": "code",
   "execution_count": null,
   "metadata": {},
   "outputs": [],
   "source": [
    "from keras.callbacks import ModelCheckpoint, TensorBoard\n",
    "\n",
    "epochs = 25\n",
    "batch_size = 256"
   ]
  },
  {
   "cell_type": "code",
   "execution_count": null,
   "metadata": {},
   "outputs": [],
   "source": [
    "def train_model(model, X, X_test, Y, Y_test):\n",
    "    if not os.path.exists('H:\\\\testovoe\\\\Ultrasound Nerve Segmentation\\\\Checkpoints\\\\'):\n",
    "        os.makedirs('H:\\\\testovoe\\\\Ultrasound Nerve Segmentation\\\\Checkpoints\\\\')\n",
    "    checkpoints = []\n",
    "    checkpoints.append(ModelCheckpoint('H:\\\\testovoe\\\\Ultrasound Nerve Segmentation\\\\Checkpoints\\\\best_weights.h5', monitor='val_loss', verbose=0, save_best_only=True, save_weights_only=True, mode='auto', period=1))\n",
    "    checkpoints.append(TensorBoard(log_dir='H:\\\\testovoe\\\\Ultrasound Nerve Segmentation\\\\Checkpoints\\\\.\\\\logs', histogram_freq=0, write_graph=True, write_images=False, embeddings_freq=0, embeddings_layer_names=None, embeddings_metadata=None))\n",
    "\n",
    "    model.fit(X, Y, batch_size=batch_size, epochs=epochs, validation_data=(X_test, Y_test), shuffle=True, callbacks=checkpoints)\n",
    "\n",
    "    return model"
   ]
  },
  {
   "cell_type": "code",
   "execution_count": null,
   "metadata": {},
   "outputs": [],
   "source": [
    "def main():\n",
    "    X, X_test, Y, Y_test = get_dataset()\n",
    "    model = get_model()\n",
    "    model = train_model(model, X, X_test, Y, Y_test)\n",
    "    save_model(model)\n",
    "    return model\n",
    "\n",
    "main()"
   ]
  },
  {
   "cell_type": "code",
   "execution_count": null,
   "metadata": {},
   "outputs": [],
   "source": [
    "def predict(model, X):\n",
    "    X = X.reshape(1, 256, 256, 1)\n",
    "    Y = model.predict(X)*255.\n",
    "    return Y"
   ]
  }
 ],
 "metadata": {
  "kernelspec": {
   "display_name": "Python 3",
   "language": "python",
   "name": "python3"
  },
  "language_info": {
   "codemirror_mode": {
    "name": "ipython",
    "version": 3
   },
   "file_extension": ".py",
   "mimetype": "text/x-python",
   "name": "python",
   "nbconvert_exporter": "python",
   "pygments_lexer": "ipython3",
   "version": "3.6.8"
  }
 },
 "nbformat": 4,
 "nbformat_minor": 2
}
